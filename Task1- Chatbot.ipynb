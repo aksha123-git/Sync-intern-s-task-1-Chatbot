{
 "cells": [
  {
   "cell_type": "markdown",
   "id": "17a6f592",
   "metadata": {},
   "source": [
    " # Sync Intern's"
   ]
  },
  {
   "cell_type": "markdown",
   "id": "0aea3b66",
   "metadata": {},
   "source": [
    " # Name: Aksha Mishra"
   ]
  },
  {
   "cell_type": "markdown",
   "id": "717747a8",
   "metadata": {},
   "source": [
    " # Task 1: Chatbot"
   ]
  },
  {
   "cell_type": "code",
   "execution_count": 2,
   "id": "1ed5e236",
   "metadata": {},
   "outputs": [
    {
     "data": {
      "text/plain": [
       "'C:\\\\Users\\\\HP\\\\Desktop'"
      ]
     },
     "execution_count": 2,
     "metadata": {},
     "output_type": "execute_result"
    }
   ],
   "source": [
    "import os\n",
    "os.getcwd()"
   ]
  },
  {
   "cell_type": "code",
   "execution_count": 3,
   "id": "649f6bb3",
   "metadata": {},
   "outputs": [],
   "source": [
    "# Importing the libraries \n",
    "import pandas as pd\n",
    "import numpy as np\n",
    "from sklearn import metrics\n",
    "import matplotlib.pyplot as plt\n",
    "import seaborn as sns\n",
    "%matplotlib inline"
   ]
  },
  {
   "cell_type": "code",
   "execution_count": 4,
   "id": "3f2c86e6",
   "metadata": {},
   "outputs": [],
   "source": [
    "import nltk\n",
    "from nltk.chat.util import Chat, reflections"
   ]
  },
  {
   "cell_type": "code",
   "execution_count": 5,
   "id": "8e32af81",
   "metadata": {},
   "outputs": [],
   "source": [
    "pairs = [\n",
    "    [\n",
    "        r\"my name is (.*)| I am (.*)\",\n",
    "        [\"RBOT:\\tHello %1\",]\n",
    "    ],\n",
    "    [\n",
    "        r\"what is your name?|name\",\n",
    "        [\"RBOT:\\tMy name is RBOT but you can call me tonight...\\U0001f648\\n\\tWhat's your Name?\"]\n",
    "    ],\n",
    "    [\n",
    "        r\"how are you?|how you doing?|what's up?\",\n",
    "        [\"RBOT:\\tI'm doing good\\nRBOT: How about You ?\",\"RBOT:\\tI'm doing great\\n\\tHow about You ?\"]\n",
    "    ],\n",
    "    [\n",
    "        r\"Thanks|Thank you|thank u\",\n",
    "        [\"RBOT:\\tHehe\",\"RBOT:\\twelcome\", \"RBOT:\\talright\",\"RBOT:\\t\\U0001f607\"]\n",
    "    ],\n",
    "    [\n",
    "        r\"sorry\",\n",
    "        [\"RBOT:\\tIts alright\",\"RBOT:\\tIts OK, never mind\\U0001f917\"]\n",
    "    ],\n",
    "    [\n",
    "        r\"Do (.*) love me ?\",\n",
    "        [\"RBOT:\\tYes, I love you but as a friend \\U0001f643\"]\n",
    "    ],\n",
    "    [\n",
    "        r\"i am doing good|fine|good|great\",\n",
    "        [\"RBOT:\\tNice to hear that\",\"RBOT:\\tAlright :)\"]\n",
    "    ],\n",
    "    [\n",
    "        r\"hi|hey|hello\",\n",
    "        [\"RBOT:\\tHello\", \"RBOT:\\tHey there\",\"RBOT:\\thii\",\"RBOT:\\tHieeee\"]\n",
    "    ],\n",
    "    [\n",
    "        r\"what is (.*) age?|age\",\n",
    "        [\"RBOT:\\tI'm a computer program dude\\n\\tSeriously you are asking me this?\\U0001f644\"]\n",
    "    ],\n",
    "    [\n",
    "        r\"what do (.*) want ?\",\n",
    "        [\"RBOT:\\tMake me an offer I can't refuse\\U0001f61C\",]\n",
    "    ],\n",
    "    [\n",
    "        r\"who created (.*) ?\",\n",
    "        [\"RBOT:\\tMr.Bhalerao has created me\\U0001f60E\"]\n",
    "    ],\n",
    "    [\n",
    "        r\"what is (.*) (location|city) ?\",\n",
    "        ['RBOT:\\tNashik, Maharashtra','RBOT:\\tChopda, Maharashtra','RBOT:\\tPune, Maharashtra']\n",
    "    ],\n",
    "    [\n",
    "        r\"how is weather in (.*)?\",\n",
    "        [\"RBOT:\\tWeather in %1 is awesome like always\\U0001f929\",\"RBOT:\\tit's too cold here\\U0001f976\"]\n",
    "    ],\n",
    "    [\n",
    "        r\"i work in (.*)?\",\n",
    "        [\"RBOT:\\t%1?,I have not heard about it\",]\n",
    "    ],\n",
    "    [\n",
    "        r\"is there raining in (.*)| raining?\",\n",
    "        [\"RBOT:\\tNo rain since last week here in %2\",\"RBOT:\\tDamn its raining too much here in %2\"]\n",
    "    ],\n",
    "    [\n",
    "        r\"how is (.*) health\",\n",
    "        [\"RBOT:\\tI'm a computer program, so I'm always healthy \",]\n",
    "    ],\n",
    "    [\n",
    "        r\"what is (.*) favourite (sports|game)| favourite (sports|game)|(sports|game) ?\",\n",
    "        [\"RBOT:\\tI'm a very big fan of Cricket\", 'RBOT:\\tI love Cricket very much']\n",
    "    ],\n",
    "    [\n",
    "        r\"who is (.*) favourite (sportsperson|player) ?| favourite (sportsperson|player|sportperson)|(sportsperson|player|sportperson)\",\n",
    "        [\"RBOT:\\tVirat Kohli\",\"RBOT:\\tAB De Villiers\",\"RBOT:\\tMS Dhoni\"]\n",
    "    ],\n",
    "    [\n",
    "        r\"who is (.*) favourite (moviestar|actor)?| favourite (moviestar|actor)|(moviestar|actor)\",\n",
    "        [\"RBOT:\\tKhiladi Kumar Akshay\"]\n",
    "    ],\n",
    "    [\n",
    "        r\"quit|bye|see you|c u\",\n",
    "        [\"RBOT:\\tBBye take care. See you soon :) \",\"RBOT:\\tIt was nice talking to you. See you soon :)\"]\n",
    "    ],\n",
    "]"
   ]
  },
  {
   "cell_type": "code",
   "execution_count": null,
   "id": "aef288ab",
   "metadata": {},
   "outputs": [
    {
     "name": "stdout",
     "output_type": "stream",
     "text": [
      "Hi, I'm Chatty and I chat alot ;)\n",
      "Please type lowercase English language to start a conversation. Type quit to leave \n"
     ]
    }
   ],
   "source": [
    "def chatty():\n",
    "    print(\"Hi, I'm Chatty and I chat alot ;)\\nPlease type lowercase English language to start a conversation. Type quit to leave \") #default message at the start\n",
    "    chat = Chat(pairs, reflections)\n",
    "    chat.converse()\n",
    "    print(\"\\n\")\n",
    "if __name__ == \"__main__\":\n",
    "    chatty()"
   ]
  },
  {
   "cell_type": "code",
   "execution_count": null,
   "id": "d4991065",
   "metadata": {},
   "outputs": [],
   "source": []
  }
 ],
 "metadata": {
  "kernelspec": {
   "display_name": "Python 3 (ipykernel)",
   "language": "python",
   "name": "python3"
  },
  "language_info": {
   "codemirror_mode": {
    "name": "ipython",
    "version": 3
   },
   "file_extension": ".py",
   "mimetype": "text/x-python",
   "name": "python",
   "nbconvert_exporter": "python",
   "pygments_lexer": "ipython3",
   "version": "3.10.5"
  }
 },
 "nbformat": 4,
 "nbformat_minor": 5
}
